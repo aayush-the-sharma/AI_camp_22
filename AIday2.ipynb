{
  "nbformat": 4,
  "nbformat_minor": 0,
  "metadata": {
    "colab": {
      "name": "AIweek1.ipynb",
      "provenance": [],
      "authorship_tag": "ABX9TyOK4bgB+8pPYkS0bPTJIjEg",
      "include_colab_link": true
    },
    "kernelspec": {
      "name": "python3",
      "display_name": "Python 3"
    },
    "language_info": {
      "name": "python"
    }
  },
  "cells": [
    {
      "cell_type": "markdown",
      "metadata": {
        "id": "view-in-github",
        "colab_type": "text"
      },
      "source": [
        "<a href=\"https://colab.research.google.com/github/aayush-the-sharma/AI_camp_22/blob/main/AIday2.ipynb\" target=\"_parent\"><img src=\"https://colab.research.google.com/assets/colab-badge.svg\" alt=\"Open In Colab\"/></a>"
      ]
    },
    {
      "cell_type": "code",
      "source": [
        " x=int(input(\"enter a number\"))\n",
        " y=int(input(\"enter another number\"))\n",
        " sum=x+y\n",
        " dif=x-y\n",
        " print(sum)\n",
        " print(dif)"
      ],
      "metadata": {
        "id": "JNRPcY0kzWz3"
      },
      "execution_count": null,
      "outputs": []
    },
    {
      "cell_type": "code",
      "source": [
        "x=int(input())\n",
        "for i in range(1,x+1):\n",
        "  print(i)"
      ],
      "metadata": {
        "id": "I2twXBzNy0qM"
      },
      "execution_count": null,
      "outputs": []
    },
    {
      "cell_type": "code",
      "source": [
        "import random\n",
        "randomlist=random.sample(range(10,80), 5)\n",
        "print(randomlist)\n",
        "sum=0\n",
        "max=0\n",
        "min=100000\n",
        "for i in randomlist:\n",
        "  sum+=i\n",
        "print(sum)\n",
        "for i in randomlist:\n",
        "  if i>max:\n",
        "    max=i\n",
        "  if i<min:\n",
        "    min=i\n",
        "print(max)\n",
        "print(min)      "
      ],
      "metadata": {
        "colab": {
          "base_uri": "https://localhost:8080/"
        },
        "id": "jO5avlpn-VNg",
        "outputId": "723c2c2f-b4da-44ad-9805-036dd012cfeb"
      },
      "execution_count": null,
      "outputs": [
        {
          "output_type": "stream",
          "name": "stdout",
          "text": [
            "[31, 62, 47, 30, 18]\n",
            "188\n",
            "62\n",
            "18\n"
          ]
        }
      ]
    },
    {
      "cell_type": "code",
      "source": [
        "def fib(n):\n",
        "  x=0\n",
        "  y=1\n",
        "  if n==1:\n",
        "    print(x)\n",
        "  else:\n",
        "    print(x)\n",
        "    print(y)\n",
        "    for i in range(2,n):\n",
        "      z=x+y\n",
        "      x=y\n",
        "      y=z\n",
        "      print(z)\n",
        "fib(int(input()))        "
      ],
      "metadata": {
        "id": "QJ-BjzdBhxo6"
      },
      "execution_count": null,
      "outputs": []
    },
    {
      "cell_type": "code",
      "source": [
        "board=[[\"_\", \"_\", \"_\"], [\"_\", \"_\", \"_\"], [\"_\", \"_\", \"_\"]]\n",
        "win=False\n",
        "turn=\"\"\n",
        "r=0\n",
        "c=0\n",
        "print(win)\n",
        "def winner(n):\n",
        "  if (board[0][0]==board[0][1] and board[0][1]==board[0][2] and board[0][0]!=\"_\"):\n",
        "    print(n + \"'s win!\")\n",
        "    win=True\n",
        "  if (board[1][0]==board[1][1] and board[1][1]==board[1][2] and board[1][0]!=\"_\"):\n",
        "    print(n + \"'s win!\")\n",
        "    win=True\n",
        "  if (board[0][0]==board[1][1] and board[1][1]==board[2][2] and board[0][0]!=\"_\"):\n",
        "    print(n + \"'s win!\")\n",
        "    win=True  \n",
        "  if (board[2][0]==board[2][1] and board[2][1]==board[2][2] and board[2][0]!=\"_\"):\n",
        "    print(n + \"'s win!\") \n",
        "    win=True    \n",
        "  if (board[0][1]==board[1][1] and board[1][1]==board[2][1] and board[0][1]!=\"_\"):\n",
        "    print(n + \"'s win!\") \n",
        "    win=True\n",
        "  if (board[0][2]==board[1][2] and board[1][2]==board[2][1] and board[0][2]!=\"_\"):\n",
        "    print(n + \"'s win!\") \n",
        "    win=True \n",
        "  if (board[0][2]==board[1][1] and board[1][1]==board[2][0] and board[1][1]!=\"_\"):\n",
        "    print(n + \"'s win!\") \n",
        "    win=True\n",
        "print(win)    \n",
        "while (win==False):\n",
        "  turn=str(input(\"who's turn is it? \"))\n",
        "  r=int(input(\"what row number? \"))\n",
        "  c=int(input(\"what column number? \"))\n",
        "  board[r][c]=turn\n",
        "  winner(turn)\n",
        "  print(board[0])\n",
        "  print(board[1])\n",
        "  print(board[2])\n",
        "\n",
        "\n",
        "     "
      ],
      "metadata": {
        "id": "tzfE6w0zkJNU"
      },
      "execution_count": null,
      "outputs": []
    }
  ]
}